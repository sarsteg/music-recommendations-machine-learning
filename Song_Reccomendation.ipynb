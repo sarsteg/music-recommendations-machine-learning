{
  "nbformat": 4,
  "nbformat_minor": 0,
  "metadata": {
    "colab": {
      "provenance": []
    },
    "kernelspec": {
      "name": "python3",
      "display_name": "Python 3"
    },
    "language_info": {
      "name": "python"
    }
  },
  "cells": [
    {
      "cell_type": "code",
      "source": [
        "import requests\n",
        "from sklearn.externals import joblib\n",
        "\n",
        "# URL of the saved pipeline on GitHub\n",
        "url_pipeline = 'https://raw.githubusercontent.com/your_username/your_repository/master/data_cluster_pipeline.pkl'\n",
        "\n",
        "# Download the pipeline file\n",
        "response = requests.get(url_pipeline)\n",
        "with open('data_cluster_pipeline.pkl', 'wb') as f:\n",
        "    f.write(response.content)\n",
        "\n",
        "# Load the pipeline\n",
        "data_cluster_pipeline = joblib.load('data_cluster_pipeline.pkl')\n"
      ],
      "metadata": {
        "id": "90UyNwzuH69S"
      },
      "execution_count": null,
      "outputs": []
    },
    {
      "cell_type": "code",
      "source": [
        "url_data = 'https://raw.githubusercontent.com/username/repository/branch/filename.csv'\n",
        "data_pd = pd.read_csv(url_data)"
      ],
      "metadata": {
        "id": "OkfTQMWSVd2k"
      },
      "execution_count": null,
      "outputs": []
    },
    {
      "cell_type": "code",
      "source": [
        "!pip install spotipy"
      ],
      "metadata": {
        "id": "mTxUFbfqVpHM"
      },
      "execution_count": null,
      "outputs": []
    },
    {
      "cell_type": "code",
      "execution_count": null,
      "metadata": {
        "id": "cuwUGF-APMen"
      },
      "outputs": [],
      "source": [
        "import spotipy\n",
        "from spotipy.oauth2 import SpotifyClientCredentials\n",
        "from collections import defaultdict\n",
        "os.environ['SPOTIFY_CLIENT_ID'] = 'f2b655afff124363892fc3859c13fb3c'\n",
        "os.environ['SPOTIFY_CLIENT_SECRET'] = '7309fef931524a29933750d4352a224a'\n",
        "\n",
        "sp = spotipy.Spotify(auth_manager=SpotifyClientCredentials(client_id=os.environ['SPOTIFY_CLIENT_ID'],\n",
        "                                                           client_secret=os.environ['SPOTIFY_CLIENT_SECRET']))\n",
        "\n",
        "def find_song(name, year):\n",
        "    song_data = defaultdict()\n",
        "    results = sp.search(q= 'track: {} year: {}'.format(name,year), limit=1)\n",
        "    if results['tracks']['items'] == []:\n",
        "        return None\n",
        "\n",
        "    results = results['tracks']['items'][0]\n",
        "    track_id = results['id']\n",
        "    audio_features = sp.audio_features(track_id)[0]\n",
        "\n",
        "    song_data['name'] = [name]\n",
        "    song_data['year'] = [year]\n",
        "    song_data['explicit'] = [int(results['explicit'])]\n",
        "    song_data['duration_ms'] = [results['duration_ms']]\n",
        "    song_data['popularity'] = [results['popularity']]\n",
        "\n",
        "    for key, value in audio_features.items():\n",
        "        song_data[key] = value\n",
        "\n",
        "    return pd.DataFrame(song_data)"
      ]
    },
    {
      "cell_type": "code",
      "execution_count": null,
      "metadata": {
        "id": "vumYsuFYPUIE"
      },
      "outputs": [],
      "source": [
        "from collections import defaultdict\n",
        "from sklearn.metrics import euclidean_distances\n",
        "from scipy.spatial.distance import cdist\n",
        "import difflib\n",
        "\n",
        "number_cols = ['valence', 'year', 'acousticness', 'danceability', 'duration_ms', 'energy', 'explicit',\n",
        " 'instrumentalness', 'key', 'liveness', 'loudness', 'mode', 'popularity', 'speechiness', 'tempo']\n",
        "\n",
        "\n",
        "def get_song_data(song, spotify_data):\n",
        "\n",
        "    try:\n",
        "        song_data = spotify_data[(spotify_data['name'] == song['name'])\n",
        "                                & (spotify_data['year'] == song['year'])].iloc[0]\n",
        "        return song_data\n",
        "\n",
        "    except IndexError:\n",
        "        return find_song(song['name'], song['year'])\n",
        "\n",
        "\n",
        "def get_mean_vector(song_list, spotify_data):\n",
        "\n",
        "    song_vectors = []\n",
        "\n",
        "    for song in song_list:\n",
        "        song_data = get_song_data(song, spotify_data)\n",
        "        if song_data is None:\n",
        "            print('Warning: {} does not exist in Spotify or in database'.format(song['name']))\n",
        "            continue\n",
        "        song_vector = song_data[number_cols].values\n",
        "        song_vectors.append(song_vector)\n",
        "\n",
        "    song_matrix = np.array(list(song_vectors))\n",
        "    return np.mean(song_matrix, axis=0)\n",
        "\n",
        "\n",
        "def flatten_dict_list(dict_list):\n",
        "\n",
        "    flattened_dict = defaultdict()\n",
        "    for key in dict_list[0].keys():\n",
        "        flattened_dict[key] = []\n",
        "\n",
        "    for dictionary in dict_list:\n",
        "        for key, value in dictionary.items():\n",
        "            flattened_dict[key].append(value)\n",
        "\n",
        "    return flattened_dict\n",
        "\n",
        "\n",
        "def recommend_songs( song_list, spotify_data, n_songs=10):\n",
        "\n",
        "    metadata_cols = ['name', 'year', 'artists']\n",
        "    song_dict = flatten_dict_list(song_list)\n",
        "\n",
        "    song_center = get_mean_vector(song_list, spotify_data)\n",
        "    scaler = data_cluster_pipeline.steps[0][1]\n",
        "    scaled_data = scaler.transform(spotify_data[number_cols])\n",
        "    scaled_song_center = scaler.transform(song_center.reshape(1, -1))\n",
        "    distances = cdist(scaled_song_center, scaled_data, 'cosine')\n",
        "    index = list(np.argsort(distances)[:, :n_songs][0])\n",
        "\n",
        "    rec_songs = spotify_data.iloc[index]\n",
        "    rec_songs = rec_songs[~rec_songs['name'].isin(song_dict['name'])]\n",
        "    return rec_songs[metadata_cols].to_dict(orient='records')"
      ]
    },
    {
      "cell_type": "code",
      "execution_count": null,
      "metadata": {
        "id": "H06zmMtHPcbK",
        "colab": {
          "base_uri": "https://localhost:8080/"
        },
        "outputId": "c122fedb-3c00-4ee9-b768-a90b5affc158"
      },
      "outputs": [
        {
          "output_type": "execute_result",
          "data": {
            "text/plain": [
              "[{'name': 'ROXANNE', 'year': 2019, 'artists': 'Arizona Zervas'},\n",
              " {'name': 'Hate The Way (feat. blackbear)',\n",
              "  'year': 2020,\n",
              "  'artists': \"G-Eazy', 'blackbear\"},\n",
              " {'name': 'All The Way Up (Remix)',\n",
              "  'year': 2016,\n",
              "  'artists': \"Fat Joe', 'Remy Ma', 'JAY-Z', 'French Montana', 'InfaRed\"},\n",
              " {'name': 'Show & Tell', 'year': 2019, 'artists': 'Melanie Martinez'},\n",
              " {'name': 'Lost In The World',\n",
              "  'year': 2010,\n",
              "  'artists': \"Kanye West', 'Bon Iver\"},\n",
              " {'name': 'What That Speed Bout!?',\n",
              "  'year': 2020,\n",
              "  'artists': \"Mike WiLL Made-It', 'Nicki Minaj', 'YoungBoy Never Broke Again\"},\n",
              " {'name': 'Da Rockwilder', 'year': 1999, 'artists': \"Method Man', 'Redman\"},\n",
              " {'name': 'Emotionally Scarred', 'year': 2020, 'artists': 'Lil Baby'},\n",
              " {'name': 'Lucid Dreams', 'year': 2018, 'artists': 'Juice WRLD'},\n",
              " {'name': 'Staring At The Sun (feat. SZA)',\n",
              "  'year': 2019,\n",
              "  'artists': \"Post Malone', 'SZA\"}]"
            ]
          },
          "metadata": {},
          "execution_count": 64
        }
      ],
      "source": [
        "recommend_songs([{'name': 'Meltdown', 'year': 2023}],  data_pd)"
      ]
    }
  ]
}